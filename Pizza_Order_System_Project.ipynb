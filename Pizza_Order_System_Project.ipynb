{
  "nbformat": 4,
  "nbformat_minor": 0,
  "metadata": {
    "colab": {
      "provenance": [],
      "authorship_tag": "ABX9TyNUQHIPp62TFX5LKP5MTz8d",
      "include_colab_link": true
    },
    "kernelspec": {
      "name": "python3",
      "display_name": "Python 3"
    },
    "language_info": {
      "name": "python"
    }
  },
  "cells": [
    {
      "cell_type": "markdown",
      "metadata": {
        "id": "view-in-github",
        "colab_type": "text"
      },
      "source": [
        "<a href=\"https://colab.research.google.com/github/enesyurt/Global-AI-Hub-Python-Bootcamp-Pizza-Order-System/blob/main/Pizza_Order_System_Project.ipynb\" target=\"_parent\"><img src=\"https://colab.research.google.com/assets/colab-badge.svg\" alt=\"Open In Colab\"/></a>"
      ]
    },
    {
      "cell_type": "markdown",
      "source": [
        "## 2023 Global AI Hub Pizza Sipariş Sistemi Projesi\n",
        "\n",
        "Bu dosyada AKBANK sponsorluğunda gerçekleşen Global AI Hub Python Bootcamp kapsamında tasarladığım pizza siparişi sistemini sergileyeceğim."
      ],
      "metadata": {
        "id": "VV6c7qsLjT3Q"
      }
    },
    {
      "cell_type": "code",
      "execution_count": null,
      "metadata": {
        "id": "mT-p7ULzjCE8"
      },
      "outputs": [],
      "source": [
        "# Gerekli kütüphaneleri import edelim.\n",
        "import csv\n",
        "import datetime"
      ]
    },
    {
      "cell_type": "code",
      "source": [
        "# Pizza classını superclass olarak tanımlayalım.\n",
        "class Pizza:\n",
        "    def __init__(self, description, cost):\n",
        "        self.description = description\n",
        "        self.cost = cost\n",
        "    \n",
        "    def get_description(self):\n",
        "        return self.description\n",
        "    \n",
        "    def get_cost(self):\n",
        "        return self.cost"
      ],
      "metadata": {
        "id": "crazCoyhj7oT"
      },
      "execution_count": null,
      "outputs": []
    },
    {
      "cell_type": "code",
      "source": [
        "# Pizza classının pizza çeşitlerine göre subclasslarını tanımlayalım.\n",
        "class Classic(Pizza):\n",
        "    def __init__(self):\n",
        "        super().__init__(\"Classic pizza\", 10.0)\n",
        "\n",
        "class Margherita(Pizza):\n",
        "    def __init__(self):\n",
        "        super().__init__(\"Margherita pizza\", 12.0)\n",
        "\n",
        "class TurkPizza(Pizza):\n",
        "    def __init__(self):\n",
        "        super().__init__(\"Turkish pizza\", 15.0)\n",
        "\n",
        "class PlainPizza(Pizza):\n",
        "    def __init__(self):\n",
        "        super().__init__(\"Plain pizza\", 8.0)"
      ],
      "metadata": {
        "id": "Rd2PSaLakCJn"
      },
      "execution_count": null,
      "outputs": []
    },
    {
      "cell_type": "code",
      "source": [
        "# Decorator classını tüm sos çeşitlerine sueprclass olacak şekilde tanımlayalım. \n",
        "class Decorator(Pizza):\n",
        "    def __init__(self, pizza):\n",
        "        self.pizza = pizza\n",
        "    \n",
        "    def get_description(self):\n",
        "        return self.pizza.get_description()\n",
        "    \n",
        "    def get_cost(self):\n",
        "        return self.pizza.get_cost()"
      ],
      "metadata": {
        "id": "bxAzIfd2kR6m"
      },
      "execution_count": null,
      "outputs": []
    },
    {
      "cell_type": "code",
      "source": [
        "# Her sos tipi için subclassları tanımlayalım.\n",
        "class Olives(Decorator):\n",
        "    def __init__(self, pizza):\n",
        "        super().__init__(pizza)\n",
        "        self.cost = 2.0\n",
        "        self.description = \"Olives\"\n",
        "\n",
        "    def get_description(self):\n",
        "        return self.pizza.get_description() + \", \" + self.description\n",
        "    \n",
        "    def get_cost(self):\n",
        "        return self.pizza.get_cost() + self.cost\n",
        "\n",
        "class Mushrooms(Decorator):\n",
        "    def __init__(self, pizza):\n",
        "        super().__init__(pizza)\n",
        "        self.cost = 1.5\n",
        "        self.description = \"Mushrooms\"\n",
        "\n",
        "    def get_description(self):\n",
        "        return self.pizza.get_description() + \", \" + self.description\n",
        "    \n",
        "    def get_cost(self):\n",
        "        return self.pizza.get_cost() + self.cost\n",
        "\n",
        "class GoatCheese(Decorator):\n",
        "    def __init__(self, pizza):\n",
        "        super().__init__(pizza)\n",
        "        self.cost = 3.0\n",
        "        self.description = \"Goat cheese\"\n",
        "\n",
        "    def get_description(self):\n",
        "        return self.pizza.get_description() + \", \" + self.description\n",
        "    \n",
        "    def get_cost(self):\n",
        "        return self.pizza.get_cost() + self.cost\n",
        "\n",
        "class Meat(Decorator):\n",
        "    def __init__(self, pizza):\n",
        "        super().__init__(pizza)\n",
        "        self.cost = 2.5\n",
        "        self.description = \"Meat\"\n",
        "\n",
        "    def get_description(self):\n",
        "        return self.pizza.get_description() + \", \" + self.description\n",
        "    \n",
        "    def get_cost(self):\n",
        "        return self.pizza.get_cost() + self.cost\n",
        "\n",
        "class Onions(Decorator):\n",
        "    def __init__(self, pizza):\n",
        "        super().__init__(pizza)\n",
        "        self.cost = 1.0\n",
        "        self.description = \"Onions\"\n",
        "\n",
        "    def get_description(self):\n",
        "        return self.pizza.get_description() + \", \" + self.description\n",
        "    \n",
        "    def get_cost(self):\n",
        "        return self.pizza.get_cost() + self.cost\n",
        "\n",
        "class Corn(Decorator):\n",
        "    def __init__(self, pizza):\n",
        "        super().__init__(pizza)\n",
        "        self.cost = 1.5\n",
        "        self.description = \"Corn\"\n",
        "\n",
        "    def get_description(self):\n",
        "        return self.pizza.get_description() + \", \" + self.description\n",
        "    \n",
        "    def get_cost(self):\n",
        "        return self.pizza.get_cost() + self.cost"
      ],
      "metadata": {
        "id": "aa0HRF67kqUg"
      },
      "execution_count": null,
      "outputs": []
    },
    {
      "cell_type": "code",
      "source": [
        "# Pizza sipariş sistemi için main fonksiyonu tanımlayalım.\n",
        "def main():\n",
        "    # Menu.txt dosyasından menüyü okuyalım ve ekrana bastıralım.\n",
        "    with open(\"Menu.txt\", \"r\") as f:\n",
        "        print(f.read())\n",
        "\n",
        "    # Kullanıcıdan pizza seçmesi için girdi alalım.\n",
        "    pizza_type = input(\"Please choose a pizza base (enter the number): \")\n",
        "    pizza_type = int(pizza_type)\n",
        "\n",
        "    # Seçilen pizza tipine göre instance oluşturalım.\n",
        "    if pizza_type == 1:\n",
        "        pizza = Classic()\n",
        "    elif pizza_type == 2:\n",
        "        pizza = Margherita()\n",
        "    elif pizza_type == 3:\n",
        "        pizza = TurkPizza()\n",
        "    elif pizza_type == 4:\n",
        "        pizza = PlainPizza()\n",
        "    else:\n",
        "        print(\"Invalid choice.\")\n",
        "        return\n",
        "\n",
        "    # Kullanıcıdan sos tipi seçmesi için girdi alalım.\n",
        "    sauce_type = input(\"Please choose a sauce (enter the number): \")\n",
        "    sauce_type = int(sauce_type)\n",
        "\n",
        "    # Seçilen sosu pizzaya ekleyelim.\n",
        "    if sauce_type == 11:\n",
        "        pizza = Olives(pizza)\n",
        "    elif sauce_type == 12:\n",
        "        pizza = Mushrooms(pizza)\n",
        "    elif sauce_type == 13:\n",
        "        pizza = GoatCheese(pizza)\n",
        "    elif sauce_type == 14:\n",
        "        pizza = Meat(pizza)\n",
        "    elif sauce_type == 15:\n",
        "        pizza = Onions(pizza)\n",
        "    elif sauce_type == 16:\n",
        "        pizza = Corn(pizza)\n",
        "    else:\n",
        "        print(\"Invalid choice.\")\n",
        "        return\n",
        "\n",
        "    # Seçilen pizzanın toplam maliyetini alalım.\n",
        "    total_cost = pizza.get_cost()\n",
        "\n",
        "    # Dictionaryde depolamak üzere kullanıcıdan bilgilerini girdi olarak alalım.\n",
        "    user_info = {}\n",
        "    user_info[\"name\"] = input(\"Enter your name: \")\n",
        "    user_info[\"id\"] = input(\"Enter your ID number: \")\n",
        "    user_info[\"credit_card_number\"] = input(\"Enter your credit card number: \")\n",
        "    user_info[\"credit_card_password\"] = input(\"Enter your credit card password: \")\n",
        "    user_info[\"description\"] = pizza.get_description()\n",
        "\n",
        "    # Siparişi veritabanına kaydedelim.\n",
        "    with open(\"Orders_Database.csv\", \"a\", newline=\"\") as f:\n",
        "        writer = csv.writer(f)\n",
        "        writer.writerow([user_info[\"name\"], user_info[\"id\"], user_info[\"credit_card_number\"],\n",
        "                        user_info[\"credit_card_password\"], user_info[\"description\"], datetime.datetime.now()])\n",
        "\n",
        "    # Sipariş fişini bastıralım.\n",
        "    print(\"Thank you for your order! Here is your receipt:\")\n",
        "    print(f\"Name: {user_info['name']}\")\n",
        "    print(f\"ID Number: {user_info['id']}\")\n",
        "    print(f\"Credit Card Number: {user_info['credit_card_number']}\")\n",
        "    print(f\"Description of Order: {user_info['description']}\")\n",
        "    print(f\"Total Cost: {total_cost}\")"
      ],
      "metadata": {
        "id": "MsPhy_dGk3jV"
      },
      "execution_count": null,
      "outputs": []
    },
    {
      "cell_type": "code",
      "source": [
        "# main fonksiyonu çalıştıralım.\n",
        "if __name__ == \"__main__\":\n",
        "    main()"
      ],
      "metadata": {
        "colab": {
          "base_uri": "https://localhost:8080/"
        },
        "id": "VZDp0XRJruyQ",
        "outputId": "9ccd06da-3156-46f3-871c-3507a2deebf6"
      },
      "execution_count": null,
      "outputs": [
        {
          "output_type": "stream",
          "name": "stdout",
          "text": [
            "Please Choose a Pizza Base:\n",
            "1: Classic\n",
            "2: Margherita\n",
            "3: TurkPizza\n",
            "4: PlainPizza\n",
            "\n",
            "and sauce of your choice:\n",
            "11: Olives\n",
            "12: Mushrooms\n",
            "13: GoatCheese\n",
            "14: Meat\n",
            "15: Onions\n",
            "16: Corn\n",
            "\n",
            "Thank you!\n",
            "Please choose a pizza base (enter the number): 4\n",
            "Please choose a sauce (enter the number): 16\n",
            "Enter your name: Selin\n",
            "Enter your ID number: 12987389217\n",
            "Enter your credit card number: 49238749\n",
            "Enter your credit card password: 2323\n",
            "Thank you for your order! Here is your receipt:\n",
            "Name: Selin\n",
            "ID Number: 12987389217\n",
            "Credit Card Number: 49238749\n",
            "Description of Order: Plain pizza, Corn\n",
            "Total Cost: 9.5\n"
          ]
        }
      ]
    }
  ]
}